{
 "cells": [
  {
   "cell_type": "code",
   "execution_count": null,
   "metadata": {
    "collapsed": false
   },
   "outputs": [],
   "source": [
    "import numpy as np\n",
    "import pandas as pd\n",
    "\n",
    "# Load the dataset\n",
    "X = pd.read_csv('titanic_data.csv')\n",
    "print X"
   ]
  },
  {
   "cell_type": "code",
   "execution_count": null,
   "metadata": {
    "collapsed": true
   },
   "outputs": [],
   "source": [
    "X = X.select_dtypes(include=[object])\n",
    "\n",
    "from sklearn.preprocessing import LabelEncoder\n",
    "from sklearn.preprocessing import OneHotEncoder\n"
   ]
  },
  {
   "cell_type": "code",
   "execution_count": null,
   "metadata": {
    "collapsed": false
   },
   "outputs": [],
   "source": [
    "print X"
   ]
  },
  {
   "cell_type": "code",
   "execution_count": null,
   "metadata": {
    "collapsed": false
   },
   "outputs": [],
   "source": [
    "le = X[2].LabelEncoder()"
   ]
  },
  {
   "cell_type": "code",
   "execution_count": null,
   "metadata": {
    "collapsed": false
   },
   "outputs": [],
   "source": [
    "import pandas as pd\n",
    "\n",
    "# Load the dataset\n",
    "from sklearn import datasets\n",
    "\n",
    "X = pd.read_csv('titanic_data.csv')\n",
    "\n",
    "X = X._get_numeric_data()\n",
    "y = X['Survived']\n",
    "del X['Age'], X['Survived']\n",
    "\n",
    "\n",
    "from sklearn.tree import DecisionTreeClassifier\n",
    "from sklearn.metrics import confusion_matrix\n",
    "from sklearn.naive_bayes import GaussianNB\n",
    "\n",
    "# TODO: split the data into training and testing sets,\n",
    "# using the standard settings for train_test_split.\n",
    "# Then, train and test the classifiers with your newly split data instead of X and y.\n",
    "\n",
    "clf1 = DecisionTreeClassifier()\n",
    "clf1.fit(X,y)\n",
    "print \"Confusion matrix for this Decision Tree:\\n\",confusion_matrix(y,clf1.predict(X))\n",
    "\n",
    "clf2 = GaussianNB()\n",
    "clf2.fit(X,y)\n",
    "print \"GaussianNB confusion matrix:\\n\",confusion_matrix(y,clf2.predict(X))\n"
   ]
  },
  {
   "cell_type": "code",
   "execution_count": null,
   "metadata": {
    "collapsed": false
   },
   "outputs": [],
   "source": [
    "import numpy as np\n",
    "import pandas as pd\n",
    "from sklearn import cross_validation\n",
    "# Load the dataset\n",
    "X = pd.read_csv('titanic_data.csv')\n",
    "\n",
    "X = X._get_numeric_data()\n",
    "y = X['Survived']\n",
    "del X['Age'], X['Survived']\n",
    "\n",
    "\n",
    "from sklearn.tree import DecisionTreeClassifier\n",
    "from sklearn.metrics import recall_score as recall\n",
    "from sklearn.metrics import precision_score as precision\n",
    "from sklearn.metrics import f1_score\n",
    "from sklearn.naive_bayes import GaussianNB\n",
    "\n",
    "# TODO: split the data into training and testing sets,\n",
    "# using the standard settings for train_test_split.\n",
    "# Then, train and test the classifiers with your newly split data instead of X and y.\n",
    "X_train, X_test, y_train, y_test = cross_validation.train_test_split(X, y, test_size=0.40, random_state=42)\n",
    "\n",
    "clf1 = DecisionTreeClassifier()\n",
    "clf1.fit(X_train, y_train)\n",
    "print \"Decision Tree recall: {:.2f} and precision: {:.2f}\".format(recall(y_test,clf1.predict(X_test)),precision(y_test,clf1.predict(X_test)))\n",
    "\n",
    "clf2 = GaussianNB()\n",
    "clf2.fit(X_train, y_train)\n",
    "print \"GaussianNB recall: {:.2f} and precision: {:.2f}\".format(recall(y_train,clf2.predict(X_train)),precision(y_train,clf2.predict(X_train)))\n"
   ]
  },
  {
   "cell_type": "code",
   "execution_count": null,
   "metadata": {
    "collapsed": false
   },
   "outputs": [],
   "source": [
    "print \"Decision Tree F1 score: {:.2f}\".format(f1_score(y_train, clf1.predict(X_train)))"
   ]
  },
  {
   "cell_type": "code",
   "execution_count": null,
   "metadata": {
    "collapsed": false
   },
   "outputs": [],
   "source": [
    "print \"GaussianNB F1 score: {:.2f}\".format(f1_score(y_train, clf2.predict(X_train)))"
   ]
  },
  {
   "cell_type": "code",
   "execution_count": null,
   "metadata": {
    "collapsed": false
   },
   "outputs": [],
   "source": [
    "import numpy as np\n",
    "import pandas as pd\n",
    "from sklearn import cross_validation\n",
    "# Load the dataset\n",
    "from sklearn.datasets import load_linnerud\n",
    "\n",
    "linnerud_data = load_linnerud()\n",
    "X = linnerud_data.data\n",
    "y = linnerud_data.target\n",
    "\n",
    "from sklearn.tree import DecisionTreeRegressor\n",
    "from sklearn.metrics import mean_absolute_error as mae\n",
    "from sklearn.linear_model import LinearRegression\n",
    "\n",
    "# TODO: split the data into training and testing sets,\n",
    "# using the standard settings for train_test_split.\n",
    "# Then, train and test the classifiers with your newly split data instead of X and y.\n",
    "\n",
    "X_train, X_test, y_train, y_test = cross_validation.train_test_split(X, y, test_size=0.40, random_state=42)\n",
    "\n",
    "reg1 = DecisionTreeRegressor()\n",
    "reg1.fit(X_train, y_train)\n",
    "print \"Decision Tree mean absolute error: {:.2f}\".format(mae(y_test,reg1.predict(X_test)))\n",
    "\n",
    "reg2 = LinearRegression()\n",
    "reg2.fit(X_train, y_train)\n",
    "print \"Linear regression mean absolute error: {:.2f}\".format(mae(y_test,reg2.predict(X_test)))\n",
    "\n",
    "results = {\n",
    " \"Linear Regression\": 0,\n",
    " \"Decision Tree\": 0\n",
    "}"
   ]
  },
  {
   "cell_type": "code",
   "execution_count": null,
   "metadata": {
    "collapsed": false
   },
   "outputs": [],
   "source": [
    "from sklearn.metrics import mean_squared_error as mse\n",
    "print \"Decision Tree mean absolute error: {:.2f}\".format(mse(y_test,reg1.predict(X_test)))\n"
   ]
  },
  {
   "cell_type": "code",
   "execution_count": null,
   "metadata": {
    "collapsed": false
   },
   "outputs": [],
   "source": [
    "print \"Linear regression mean absolute error: {:.2f}\".format(mse(y_test,reg2.predict(X_test)))\n"
   ]
  },
  {
   "cell_type": "code",
   "execution_count": 3,
   "metadata": {
    "collapsed": false
   },
   "outputs": [
    {
     "name": "stdout",
     "output_type": "stream",
     "text": [
      "Regressor score Train: 0.3982\n",
      "Regressor score Test: 0.3592\n"
     ]
    }
   ],
   "source": [
    "from sklearn.linear_model import LinearRegression\n",
    "from sklearn.learning_curve import learning_curve\n",
    "import matplotlib.pyplot as plt\n",
    "from sklearn.metrics import explained_variance_score, make_scorer\n",
    "from sklearn.cross_validation import KFold\n",
    "import numpy as np\n",
    "from sklearn import cross_validation\n",
    "# Set the learning curve parameters; you'll need this for learning_curves\n",
    "size = 1000\n",
    "cv_sets = KFold(size,shuffle=True)\n",
    "scorer = make_scorer(explained_variance_score)\n",
    "\n",
    "# Create a series of data that forces a learner to have high bias\n",
    "# Note for this quiz you do not need to create training and testing sets\n",
    "X = np.reshape(np.random.normal(scale=2,size=size),(-1,1))\n",
    "y = np.array([[1 - 2*x[0] +x[0]**2] for x in X])\n",
    "\n",
    "X_train, X_test, y_train, y_test = cross_validation.train_test_split(X, y, test_size=0.40, random_state=42)\n",
    "\n",
    "def plot_curve():\n",
    "    reg = LinearRegression()\n",
    "    reg.fit(X_train,y_train)\n",
    "    print \"Regressor score Train: {:.4f}\".format(reg.score(X_train,y_train))\n",
    "    print \"Regressor score Test: {:.4f}\".format(reg.score(X_test,y_test))\n",
    "    \n",
    "    # TODO: Use learning_curve imported above to create learning curves from X and y.\n",
    "    # You will need to use 'cv_sets' and 'scorer' as parameters in the function.\n",
    "    \n",
    "    train_sizes, train_scores, test_scores = (0.6, 0.4001, 0.3453)\n",
    "\n",
    "    # TODO: Plot the learning curves for both the training scores and testing scores.\n",
    "    #       Use plt.plot() twice -- one for each score. Be sure to give them labels!\n",
    "    \n",
    "    \n",
    "    # Plot aesthetics\n",
    "    plt.ylim(-0.1, 1.1)\n",
    "    plt.ylabel(\"Curve Score\")\n",
    "    plt.xlabel(\"Training Points\")\n",
    "    plt.legend(bbox_to_anchor=(1.1, 1.1))\n",
    "    plt.plot()\n",
    "    plt.show()\n",
    "    \n",
    "plot_curve()"
   ]
  },
  {
   "cell_type": "code",
   "execution_count": null,
   "metadata": {
    "collapsed": true
   },
   "outputs": [],
   "source": []
  }
 ],
 "metadata": {
  "kernelspec": {
   "display_name": "Python 2",
   "language": "python",
   "name": "python2"
  },
  "language_info": {
   "codemirror_mode": {
    "name": "ipython",
    "version": 2
   },
   "file_extension": ".py",
   "mimetype": "text/x-python",
   "name": "python",
   "nbconvert_exporter": "python",
   "pygments_lexer": "ipython2",
   "version": "2.7.12"
  }
 },
 "nbformat": 4,
 "nbformat_minor": 0
}
