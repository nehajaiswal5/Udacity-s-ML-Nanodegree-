{
 "cells": [
  {
   "cell_type": "markdown",
   "metadata": {},
   "source": [
    "# Machine Learning Engineer Nanodegree\n",
    "## Supervised Learning\n",
    "## Project 2: Building a Student Intervention System"
   ]
  },
  {
   "cell_type": "markdown",
   "metadata": {},
   "source": [
    "Welcome to the second project of the Machine Learning Engineer Nanodegree! In this notebook, some template code has already been provided for you, and it will be your job to implement the additional functionality necessary to successfully complete this project. Sections that begin with **'Implementation'** in the header indicate that the following block of code will require additional functionality which you must provide. Instructions will be provided for each section and the specifics of the implementation are marked in the code block with a `'TODO'` statement. Please be sure to read the instructions carefully!\n",
    "\n",
    "In addition to implementing code, there will be questions that you must answer which relate to the project and your implementation. Each section where you will answer a question is preceded by a **'Question X'** header. Carefully read each question and provide thorough answers in the following text boxes that begin with **'Answer:'**. Your project submission will be evaluated based on your answers to each of the questions and the implementation you provide.  \n",
    "\n",
    ">**Note:** Code and Markdown cells can be executed using the **Shift + Enter** keyboard shortcut. In addition, Markdown cells can be edited by typically double-clicking the cell to enter edit mode."
   ]
  },
  {
   "cell_type": "markdown",
   "metadata": {},
   "source": [
    "### Question 1 - Classification vs. Regression\n",
    "*Your goal for this project is to identify students who might need early intervention before they fail to graduate. Which type of supervised learning problem is this, classification or regression? Why?*"
   ]
  },
  {
   "cell_type": "markdown",
   "metadata": {},
   "source": [
    "**Answer: ** This is a classification problem. Goal here is to identify the which students who might fail. Here the target variable is made up of yes/no (categorical) values not a continuous number. A binary classification model is needed to be developed here.  "
   ]
  },
  {
   "cell_type": "markdown",
   "metadata": {},
   "source": [
    "## Exploring the Data\n",
    "Run the code cell below to load necessary Python libraries and load the student data. Note that the last column from this dataset, `'passed'`, will be our target label (whether the student graduated or didn't graduate). All other columns are features about each student."
   ]
  },
  {
   "cell_type": "code",
   "execution_count": 152,
   "metadata": {
    "collapsed": false
   },
   "outputs": [
    {
     "name": "stdout",
     "output_type": "stream",
     "text": [
      "Student data read successfully!\n"
     ]
    }
   ],
   "source": [
    "# Import libraries\n",
    "import numpy as np\n",
    "import pandas as pd\n",
    "from time import time\n",
    "from sklearn.metrics import f1_score\n",
    "\n",
    "# Read student data\n",
    "student_data = pd.read_csv(\"student-data.csv\")\n",
    "print \"Student data read successfully!\""
   ]
  },
  {
   "cell_type": "markdown",
   "metadata": {},
   "source": [
    "### Implementation: Data Exploration\n",
    "Let's begin by investigating the dataset to determine how many students we have information on, and learn about the graduation rate among these students. In the code cell below, you will need to compute the following:\n",
    "- The total number of students, `n_students`.\n",
    "- The total number of features for each student, `n_features`.\n",
    "- The number of those students who passed, `n_passed`.\n",
    "- The number of those students who failed, `n_failed`.\n",
    "- The graduation rate of the class, `grad_rate`, in percent (%).\n"
   ]
  },
  {
   "cell_type": "code",
   "execution_count": 153,
   "metadata": {
    "collapsed": false
   },
   "outputs": [
    {
     "name": "stdout",
     "output_type": "stream",
     "text": [
      "Total number of students: 395\n",
      "Number of features: 30\n",
      "Number of students who passed: 265\n",
      "Number of students who failed: 130\n",
      "Graduation rate of the class: 67.09%\n"
     ]
    }
   ],
   "source": [
    "# TODO: Calculate number of students\n",
    "n_students = student_data.shape[0]\n",
    "\n",
    "# TODO: Calculate number of features\n",
    "n_features = student_data.shape[1]-1\n",
    "\n",
    "# TODO: Calculate passing students\n",
    "n_passed = student_data.passed[student_data.passed == 'yes'].count()\n",
    "\n",
    "# TODO: Calculate failing students\n",
    "n_failed = student_data.passed[student_data.passed == 'no'].count()\n",
    "\n",
    "# TODO: Calculate graduation rate\n",
    "grad_rate = float(n_passed) / float(n_students)* 100\n",
    "\n",
    "# Print the results\n",
    "print \"Total number of students: {}\".format(n_students)\n",
    "print \"Number of features: {}\".format(n_features)\n",
    "print \"Number of students who passed: {}\".format(n_passed)\n",
    "print \"Number of students who failed: {}\".format(n_failed)\n",
    "print \"Graduation rate of the class: {:.2f}%\".format(grad_rate)"
   ]
  },
  {
   "cell_type": "markdown",
   "metadata": {},
   "source": [
    "## Preparing the Data\n",
    "In this section, we will prepare the data for modeling, training and testing.\n",
    "\n",
    "### Identify feature and target columns\n",
    "It is often the case that the data you obtain contains non-numeric features. This can be a problem, as most machine learning algorithms expect numeric data to perform computations with.\n",
    "\n",
    "Run the code cell below to separate the student data into feature and target columns to see if any features are non-numeric."
   ]
  },
  {
   "cell_type": "code",
   "execution_count": 154,
   "metadata": {
    "collapsed": false
   },
   "outputs": [
    {
     "name": "stdout",
     "output_type": "stream",
     "text": [
      "Feature columns:\n",
      "['school', 'sex', 'age', 'address', 'famsize', 'Pstatus', 'Medu', 'Fedu', 'Mjob', 'Fjob', 'reason', 'guardian', 'traveltime', 'studytime', 'failures', 'schoolsup', 'famsup', 'paid', 'activities', 'nursery', 'higher', 'internet', 'romantic', 'famrel', 'freetime', 'goout', 'Dalc', 'Walc', 'health', 'absences']\n",
      "\n",
      "Target column: passed\n",
      "\n",
      "Feature values:\n",
      "  school sex  age address famsize Pstatus  Medu  Fedu     Mjob      Fjob  \\\n",
      "0     GP   F   18       U     GT3       A     4     4  at_home   teacher   \n",
      "1     GP   F   17       U     GT3       T     1     1  at_home     other   \n",
      "2     GP   F   15       U     LE3       T     1     1  at_home     other   \n",
      "3     GP   F   15       U     GT3       T     4     2   health  services   \n",
      "4     GP   F   16       U     GT3       T     3     3    other     other   \n",
      "\n",
      "    ...    higher internet  romantic  famrel  freetime goout Dalc Walc health  \\\n",
      "0   ...       yes       no        no       4         3     4    1    1      3   \n",
      "1   ...       yes      yes        no       5         3     3    1    1      3   \n",
      "2   ...       yes      yes        no       4         3     2    2    3      3   \n",
      "3   ...       yes      yes       yes       3         2     2    1    1      5   \n",
      "4   ...       yes       no        no       4         3     2    1    2      5   \n",
      "\n",
      "  absences  \n",
      "0        6  \n",
      "1        4  \n",
      "2       10  \n",
      "3        2  \n",
      "4        4  \n",
      "\n",
      "[5 rows x 30 columns]\n"
     ]
    }
   ],
   "source": [
    "# Extract feature columns\n",
    "feature_cols = list(student_data.columns[:-1])\n",
    "\n",
    "# Extract target column 'passed'\n",
    "target_col = student_data.columns[-1] \n",
    "\n",
    "# Show the list of columns\n",
    "print \"Feature columns:\\n{}\".format(feature_cols)\n",
    "print \"\\nTarget column: {}\".format(target_col)\n",
    "\n",
    "# Separate the data into feature data and target data (X_all and y_all, respectively)\n",
    "X_all = student_data[feature_cols]\n",
    "y_all = student_data[target_col]\n",
    "\n",
    "# Show the feature information by printing the first five rows\n",
    "print \"\\nFeature values:\"\n",
    "print X_all.head()"
   ]
  },
  {
   "cell_type": "markdown",
   "metadata": {},
   "source": [
    "### Preprocess Feature Columns\n",
    "\n",
    "As you can see, there are several non-numeric columns that need to be converted! Many of them are simply `yes`/`no`, e.g. `internet`. These can be reasonably converted into `1`/`0` (binary) values.\n",
    "\n",
    "Other columns, like `Mjob` and `Fjob`, have more than two values, and are known as _categorical variables_. The recommended way to handle such a column is to create as many columns as possible values (e.g. `Fjob_teacher`, `Fjob_other`, `Fjob_services`, etc.), and assign a `1` to one of them and `0` to all others.\n",
    "\n",
    "These generated columns are sometimes called _dummy variables_, and we will use the [`pandas.get_dummies()`](http://pandas.pydata.org/pandas-docs/stable/generated/pandas.get_dummies.html?highlight=get_dummies#pandas.get_dummies) function to perform this transformation. Run the code cell below to perform the preprocessing routine discussed in this section."
   ]
  },
  {
   "cell_type": "code",
   "execution_count": 155,
   "metadata": {
    "collapsed": false
   },
   "outputs": [
    {
     "name": "stdout",
     "output_type": "stream",
     "text": [
      "Processed feature columns (48 total features):\n",
      "['school_GP', 'school_MS', 'sex_F', 'sex_M', 'age', 'address_R', 'address_U', 'famsize_GT3', 'famsize_LE3', 'Pstatus_A', 'Pstatus_T', 'Medu', 'Fedu', 'Mjob_at_home', 'Mjob_health', 'Mjob_other', 'Mjob_services', 'Mjob_teacher', 'Fjob_at_home', 'Fjob_health', 'Fjob_other', 'Fjob_services', 'Fjob_teacher', 'reason_course', 'reason_home', 'reason_other', 'reason_reputation', 'guardian_father', 'guardian_mother', 'guardian_other', 'traveltime', 'studytime', 'failures', 'schoolsup', 'famsup', 'paid', 'activities', 'nursery', 'higher', 'internet', 'romantic', 'famrel', 'freetime', 'goout', 'Dalc', 'Walc', 'health', 'absences']\n"
     ]
    }
   ],
   "source": [
    "def preprocess_features(X):\n",
    "    ''' Preprocesses the student data and converts non-numeric binary variables into\n",
    "        binary (0/1) variables. Converts categorical variables into dummy variables. '''\n",
    "    \n",
    "    # Initialize new output DataFrame\n",
    "    output = pd.DataFrame(index = X.index)\n",
    "\n",
    "    # Investigate each feature column for the data\n",
    "    for col, col_data in X.iteritems():\n",
    "        \n",
    "        # If data type is non-numeric, replace all yes/no values with 1/0\n",
    "        if col_data.dtype == object:\n",
    "            col_data = col_data.replace(['yes', 'no'], [1, 0])\n",
    "\n",
    "        # If data type is categorical, convert to dummy variables\n",
    "        if col_data.dtype == object:\n",
    "            # Example: 'school' => 'school_GP' and 'school_MS'\n",
    "            col_data = pd.get_dummies(col_data, prefix = col)  \n",
    "        \n",
    "        # Collect the revised columns\n",
    "        output = output.join(col_data)\n",
    "    \n",
    "    return output\n",
    "\n",
    "X_all = preprocess_features(X_all)\n",
    "print \"Processed feature columns ({} total features):\\n{}\".format(len(X_all.columns), list(X_all.columns))"
   ]
  },
  {
   "cell_type": "markdown",
   "metadata": {},
   "source": [
    "### Implementation: Training and Testing Data Split\n",
    "So far, we have converted all _categorical_ features into numeric values. For the next step, we split the data (both features and corresponding labels) into training and test sets. In the following code cell below, you will need to implement the following:\n",
    "- Randomly shuffle and split the data (`X_all`, `y_all`) into training and testing subsets.\n",
    "  - Use 300 training points (approximately 75%) and 95 testing points (approximately 25%).\n",
    "  - Set a `random_state` for the function(s) you use, if provided.\n",
    "  - Store the results in `X_train`, `X_test`, `y_train`, and `y_test`."
   ]
  },
  {
   "cell_type": "code",
   "execution_count": 156,
   "metadata": {
    "collapsed": false
   },
   "outputs": [
    {
     "name": "stdout",
     "output_type": "stream",
     "text": [
      "Training set has 300 samples.\n",
      "Testing set has 95 samples.\n"
     ]
    }
   ],
   "source": [
    "# TODO: Import any additional functionality you may need here\n",
    "from sklearn.cross_validation import train_test_split\n",
    "\n",
    "\n",
    "\n",
    "X_train, X_test, y_train, y_test = train_test_split(X_all, y_all,train_size=300,random_state=42)\n",
    "\n",
    "\n",
    "# TODO: Set the number of training points\n",
    "num_train = X_train.shape[0]\n",
    "\n",
    "# Set the number of testing points\n",
    "num_test = X_all.shape[0] - num_train\n",
    "\n",
    "\n",
    "# TODO: Shuffle and split the dataset into the number of training and testing points above\n",
    "X_train = X_train\n",
    "X_test = X_test\n",
    "y_train = y_train\n",
    "y_test = y_test\n",
    "\n",
    "# Show the results of the split\n",
    "print \"Training set has {} samples.\".format(X_train.shape[0])\n",
    "print \"Testing set has {} samples.\".format(X_test.shape[0])"
   ]
  },
  {
   "cell_type": "markdown",
   "metadata": {},
   "source": [
    "## Training and Evaluating Models\n",
    "In this section, you will choose 3 supervised learning models that are appropriate for this problem and available in `scikit-learn`. You will first discuss the reasoning behind choosing these three models by considering what you know about the data and each model's strengths and weaknesses. You will then fit the model to varying sizes of training data (100 data points, 200 data points, and 300 data points) and measure the F<sub>1</sub> score. You will need to produce three tables (one for each model) that shows the training set size, training time, prediction time, F<sub>1</sub> score on the training set, and F<sub>1</sub> score on the testing set.\n",
    "\n",
    "**The following supervised learning models are currently available in** [`scikit-learn`](http://scikit-learn.org/stable/supervised_learning.html) **that you may choose from:**\n",
    "- Gaussian Naive Bayes (GaussianNB)\n",
    "- Decision Trees\n",
    "- Ensemble Methods (Bagging, AdaBoost, Random Forest, Gradient Boosting)\n",
    "- K-Nearest Neighbors (KNeighbors)\n",
    "- Stochastic Gradient Descent (SGDC)\n",
    "- Support Vector Machines (SVM)\n",
    "- Logistic Regression"
   ]
  },
  {
   "cell_type": "markdown",
   "metadata": {},
   "source": [
    "### Question 2 - Model Application\n",
    "*List three supervised learning models that are appropriate for this problem. For each model chosen*\n",
    "- Describe one real-world application in industry where the model can be applied. *(You may need to do a small bit of research for this — give references!)* \n",
    "- What are the strengths of the model; when does it perform well? \n",
    "- What are the weaknesses of the model; when does it perform poorly?\n",
    "- What makes this model a good candidate for the problem, given what you know about the data?"
   ]
  },
  {
   "cell_type": "markdown",
   "metadata": {},
   "source": [
    "**Answer: **\n",
    "\n",
    "Choices of algorithm :\n",
    "\n",
    "1. Gaussian Naive Bayes (GaussianNB)\n",
    "        \n",
    "        Naive Bayes Learner is one of the fastest learning algorithms. Naive Bayes classifiers are highly scalable, requiring a number of parameters linear in the number of variables (features/predictors) in a learning problem. Naive Bayes is a simple technique for constructing classifiers: models that assign class labels to problem instances, represented as vectors of feature values, where the class labels are drawn from some finite set. Used for spam detection, facial analysis. Outputs probabilities. \n",
    "        \n",
    "        Pros:\n",
    "        less data preparation,\n",
    "        fast, simple , dimensionality doesnt interfere\n",
    "        \n",
    "        Cons:\n",
    "\n",
    "        Can cause issues when dimensions are not independent. bad estimator\n",
    "        \n",
    "        Selection:\n",
    "\n",
    "        classifying data quickly.s\n",
    "    \n",
    "2. Support Vector Machines\n",
    "\n",
    "        A Support Vector Machine (SVM) is a discriminative classifier formally defined by a separating hyperplane. In other words, given labeled training data (supervised learning), the algorithm outputs an optimal hyperplane which categorizes new examples.\n",
    "        \n",
    "        SVM outputs a hyperplane which can effectively categorize the data. \n",
    "        SVM works for cases where size of data is small but features are relatively more. This is oftenly used in image recognition, text processing and other supervised learning problems. \n",
    "        Pros: \n",
    "        Effective in high dimensional spaces \n",
    "        It's also memory efficient.\n",
    "        Support vectors are the data points that lie closest to the decision surface (or hyperplane) It can even predict these well. \n",
    "        Based on data, different kernels can be applied to different problems. \n",
    "        \n",
    "        Cons:\n",
    "        It could perform poorly if data is more dimensional containing more features. \n",
    "        It does not provide probability estimates.\n",
    "        \n",
    "        Selection: There are so many features, hence data may not be entirely linear. \n",
    "\n",
    "3. Random Forest\n",
    "\n",
    "         Random forests or random decision forests[1][2] are an ensemble learning method for classification, regression and other tasks, that operate by constructing a multitude of decision trees at training time and outputting the class that is the mode of the classes (classification) or mean prediction (regression) of the individual trees. Random decision forests correct for decision trees' habit of overfitting to their training set.\n",
    "         \n",
    "       Real world use case such as in Internet traffic interception, Video classification etc\n",
    "\n",
    "        Pros:\n",
    "\n",
    "        scalable,  good for cases in missing data.\n",
    "        \n",
    "        Cons:\n",
    "\n",
    "        they may over-fit data sets.\n",
    "        \n",
    "        Selection:\n",
    "\n",
    "        Majority of the features appear to be mutually exclusive \n",
    "\n"
   ]
  },
  {
   "cell_type": "markdown",
   "metadata": {},
   "source": [
    "### Setup\n",
    "Run the code cell below to initialize three helper functions which you can use for training and testing the three supervised learning models you've chosen above. The functions are as follows:\n",
    "- `train_classifier` - takes as input a classifier and training data and fits the classifier to the data.\n",
    "- `predict_labels` - takes as input a fit classifier, features, and a target labeling and makes predictions using the F<sub>1</sub> score.\n",
    "- `train_predict` - takes as input a classifier, and the training and testing data, and performs `train_clasifier` and `predict_labels`.\n",
    " - This function will report the F<sub>1</sub> score for both the training and testing data separately."
   ]
  },
  {
   "cell_type": "code",
   "execution_count": 157,
   "metadata": {
    "collapsed": false
   },
   "outputs": [],
   "source": [
    "import time\n",
    "from sklearn.metrics import f1_score\n",
    "\n",
    "def train_classifier(clf, X_train, y_train):\n",
    "    ''' Fits a classifier to the training data. '''\n",
    "    \n",
    "    print \"Training {}...\".format(clf.__class__.__name__)\n",
    "    \n",
    "    # Start the clock, train the classifier, then stop the clock\n",
    "    start = time.time()\n",
    "    clf.fit(X_train, y_train)\n",
    "    end = time.time()\n",
    "    \n",
    "    # Print the results\n",
    "    \n",
    "    print \"Training Completed! Trained model in {:.4f} seconds\".format(end - start)\n",
    "    return end - start\n",
    "    \n",
    "def predict_labels(clf, features, target):\n",
    "    ''' Makes predictions using a fit classifier based on F1 score. '''\n",
    "    \n",
    "    print \"Predicting labels using {}...\".format(clf.__class__.__name__)\n",
    "    # Start the clock, make predictions, then stop the clock\n",
    "    start = time.time()\n",
    "    y_pred = clf.predict(features)\n",
    "    end = time.time()\n",
    "    \n",
    "    # Print and return results\n",
    "    print \"Prediction done! Made predictions in {:.4f} seconds.\".format(end - start)\n",
    "    return f1_score(target.values, y_pred, pos_label='yes'), end - start\n",
    "\n",
    "\n",
    "def train_predict(clf, X_train, y_train, X_test, y_test):\n",
    "    ''' Train and predict using a classifer based on F1 score. '''\n",
    "    \n",
    "    # Indicate the classifier and the training set size\n",
    "    print \"Training a {} using a training set size of {}. . .\".format(clf.__class__.__name__, len(X_train))\n",
    "    \n",
    "    # Train the classifier\n",
    "    train_classifier(clf, X_train, y_train)\n",
    "    \n",
    "    # Print the results of prediction for both training and testing\n",
    "    f1_score_train, time_predict_train = predict_labels(clf, X_train, y_train)\n",
    "    f1_score_test, time_predict_test = predict_labels(clf, X_test, y_test)\n",
    "    print \"F1 score for training set: {:.4f}.\".format(f1_score_train)\n",
    "    print \"F1 score for test set: {:.4f}.\".format(f1_score_test)\n",
    "    \n",
    "    return f1_score_train,time_predict_train,f1_score_test,time_predict_test"
   ]
  },
  {
   "cell_type": "code",
   "execution_count": 137,
   "metadata": {
    "collapsed": false
   },
   "outputs": [
    {
     "name": "stdout",
     "output_type": "stream",
     "text": [
      "GaussianNB started!\n",
      "Training a GaussianNB using a training set size of 300. . .\n",
      "Training GaussianNB...\n",
      "Training Completed! Trained model in 0.0018 seconds\n",
      "Predicting labels using GaussianNB...\n",
      "Prediction done! Made predictions in 0.0005 seconds.\n",
      "Predicting labels using GaussianNB...\n",
      "Prediction done! Made predictions in 0.0004 seconds.\n",
      "F1 score for training set: 0.7775.\n",
      "F1 score for test set: 0.7302.\n",
      "GaussianNB completed!\n",
      "\n",
      "SVC started!\n",
      "Training a SVC using a training set size of 300. . .\n",
      "Training SVC...\n",
      "Training Completed! Trained model in 0.0052 seconds\n",
      "Predicting labels using SVC...\n",
      "Prediction done! Made predictions in 0.0038 seconds.\n",
      "Predicting labels using SVC...\n",
      "Prediction done! Made predictions in 0.0019 seconds.\n",
      "F1 score for training set: 0.8596.\n",
      "F1 score for test set: 0.7974.\n",
      "SVC completed!\n",
      "\n",
      "RandomForestClassifier started!\n",
      "Training a RandomForestClassifier using a training set size of 300. . .\n",
      "Training RandomForestClassifier...\n",
      "Training Completed! Trained model in 0.0246 seconds\n",
      "Predicting labels using RandomForestClassifier...\n",
      "Prediction done! Made predictions in 0.0011 seconds.\n",
      "Predicting labels using RandomForestClassifier...\n",
      "Prediction done! Made predictions in 0.0008 seconds.\n",
      "F1 score for training set: 0.9874.\n",
      "F1 score for test set: 0.7385.\n",
      "RandomForestClassifier completed!\n",
      "\n"
     ]
    }
   ],
   "source": [
    "## Train and predict 3 model \n",
    "\n",
    "#X_train, X_test, y_train, y_test = train_test_split(X_all, y_all, train_size=300)\n",
    "## GaussianNB\n",
    "from sklearn.naive_bayes import GaussianNB\n",
    "# clf=GaussianNB()\n",
    "# train_predict(clf, X_train, X_test, y_train, y_test)\n",
    "\n",
    "## SVM\n",
    "from sklearn.svm import SVC\n",
    "#clf=SVC()\n",
    "#train_predict(clf, X_train, y_train, X_test, y_test)\n",
    "\n",
    "## RandomForest\n",
    "from sklearn.ensemble import RandomForestClassifier\n",
    "#clf=RandomForestClassifier()\n",
    "#train_predict(clf, X_train, y_train, X_test, y_test)\n",
    "\n",
    "\n",
    "classifers = [GaussianNB(),SVC(),RandomForestClassifier()]\n",
    "\n",
    "for clf in classifers:\n",
    "    print clf.__class__.__name__ + \" started!\"\n",
    "    train_predict(clf, X_train, y_train, X_test, y_test)\n",
    "    print clf.__class__.__name__ + \" completed!\\n\"\n",
    "\n",
    "\n",
    "\n"
   ]
  },
  {
   "cell_type": "markdown",
   "metadata": {},
   "source": [
    "### Implementation: Model Performance Metrics\n",
    "With the predefined functions above, you will now import the three supervised learning models of your choice and run the `train_predict` function for each one. Remember that you will need to train and predict on each classifier for three different training set sizes: 100, 200, and 300. Hence, you should expect to have 9 different outputs below — 3 for each model using the varying training set sizes. In the following code cell, you will need to implement the following:\n",
    "- Import the three supervised learning models you've discussed in the previous section.\n",
    "- Initialize the three models and store them in `clf_A`, `clf_B`, and `clf_C`.\n",
    " - Use a `random_state` for each model you use, if provided.\n",
    " - **Note:** Use the default settings for each model — you will tune one specific model in a later section.\n",
    "- Create the different training set sizes to be used to train each model.\n",
    " - *Do not reshuffle and resplit the data! The new training points should be drawn from `X_train` and `y_train`.*\n",
    "- Fit each model with each training set size and make predictions on the test set (9 in total).  \n",
    "**Note:** Three tables are provided after the following code cell which can be used to store your results."
   ]
  },
  {
   "cell_type": "code",
   "execution_count": 150,
   "metadata": {
    "collapsed": false
   },
   "outputs": [],
   "source": [
    "# import numpy\n",
    "# # TODO: Import the three supervised learning models from sklearn\n",
    "# from sklearn.naive_bayes import GaussianNB\n",
    "# from sklearn.svm import SVC\n",
    "# from sklearn.ensemble import RandomForestClassifier\n",
    "# from sklearn.tree import DecisionTreeClassifier\n",
    "\n",
    "# # TODO: Initialize the three models\n",
    "# clf_A = GaussianNB()\n",
    "# clf_B = SVC()\n",
    "# clf_C = RandomForestClassifier()\n",
    "# clf_D = DecisionTreeClassifier()\n",
    "\n",
    "# classifiers = [clf_A,clf_B,clf_C,clf_D]\n",
    "\n",
    "# # TODO: Execute the 'train_predict' function for each classifier and each training set size\n",
    "# datasets = [train_test_split(X_all, y_all, train_size=x, test_size=95,random_state=42) for x in [100, 200, 300]]\n",
    "\n",
    "# for clf in classifiers:\n",
    "#     for data in datasets:\n",
    "#         X_train, X_test, y_train, y_test = data\n",
    "#         time_train = train_classifier(clf, X_train, y_train)\n",
    "#         f1_score_train, time_predict = predict_labels(clf, X_train, y_train)\n",
    "#         f1_score_test, time_predict = predict_labels(clf, X_test,y_test)\n",
    "        \n",
    "#         print clf.__class__.__name__,X_train.shape[0],time_train,time_predict,f1_score_train,f1_score_test\n",
    "        \n",
    "#     print \"Avg Training F1 score for \"+ clf.__class__.__name__+\": {:.4f}.\".format(numpy.mean(f1_score_train))\n",
    "#     print \"Avg Test F1 score for \"+ clf.__class__.__name__+\": {:.4f}.\".format(numpy.mean(f1_score_test))"
   ]
  },
  {
   "cell_type": "code",
   "execution_count": 165,
   "metadata": {
    "collapsed": false
   },
   "outputs": [
    {
     "name": "stdout",
     "output_type": "stream",
     "text": [
      "Training a GaussianNB using a training set size of 100. . .\n",
      "Training GaussianNB...\n",
      "Training Completed! Trained model in 0.0009 seconds\n",
      "Predicting labels using GaussianNB...\n",
      "Prediction done! Made predictions in 0.0004 seconds.\n",
      "Predicting labels using GaussianNB...\n",
      "Prediction done! Made predictions in 0.0002 seconds.\n",
      "F1 score for training set: 0.8467.\n",
      "F1 score for test set: 0.8029.\n",
      "GaussianNB 100 0.000370979309082 0.000226974487305 0.846715328467 0.802919708029\n",
      "Avg Training F1 score for GaussianNB: 0.8467.\n",
      "Avg Test F1 score for GaussianNB: 0.8029.\n",
      "Training a GaussianNB using a training set size of 200. . .\n",
      "Training GaussianNB...\n",
      "Training Completed! Trained model in 0.0006 seconds\n",
      "Predicting labels using GaussianNB...\n",
      "Prediction done! Made predictions in 0.0003 seconds.\n",
      "Predicting labels using GaussianNB...\n",
      "Prediction done! Made predictions in 0.0004 seconds.\n",
      "F1 score for training set: 0.8406.\n",
      "F1 score for test set: 0.7244.\n",
      "GaussianNB 200 0.000276803970337 0.000409841537476 0.840579710145 0.724409448819\n",
      "Avg Training F1 score for GaussianNB: 0.8406.\n",
      "Avg Test F1 score for GaussianNB: 0.7244.\n",
      "Training a GaussianNB using a training set size of 300. . .\n",
      "Training GaussianNB...\n",
      "Training Completed! Trained model in 0.0010 seconds\n",
      "Predicting labels using GaussianNB...\n",
      "Prediction done! Made predictions in 0.0008 seconds.\n",
      "Predicting labels using GaussianNB...\n",
      "Prediction done! Made predictions in 0.0004 seconds.\n",
      "F1 score for training set: 0.8038.\n",
      "F1 score for test set: 0.7634.\n",
      "GaussianNB 300 0.000806093215942 0.00043511390686 0.80378250591 0.763358778626\n",
      "Avg Training F1 score for GaussianNB: 0.8038.\n",
      "Avg Test F1 score for GaussianNB: 0.7634.\n",
      "Training a SVC using a training set size of 100. . .\n",
      "Training SVC...\n",
      "Training Completed! Trained model in 0.0011 seconds\n",
      "Predicting labels using SVC...\n",
      "Prediction done! Made predictions in 0.0007 seconds.\n",
      "Predicting labels using SVC...\n",
      "Prediction done! Made predictions in 0.0006 seconds.\n",
      "F1 score for training set: 0.8777.\n",
      "F1 score for test set: 0.7746.\n",
      "SVC 100 0.000725030899048 0.000598907470703 0.877697841727 0.774647887324\n",
      "Avg Training F1 score for SVC: 0.8777.\n",
      "Avg Test F1 score for SVC: 0.7746.\n",
      "Training a SVC using a training set size of 200. . .\n",
      "Training SVC...\n",
      "Training Completed! Trained model in 0.0027 seconds\n",
      "Predicting labels using SVC...\n",
      "Prediction done! Made predictions in 0.0020 seconds.\n",
      "Predicting labels using SVC...\n",
      "Prediction done! Made predictions in 0.0010 seconds.\n",
      "F1 score for training set: 0.8679.\n",
      "F1 score for test set: 0.7815.\n",
      "SVC 200 0.00200390815735 0.000986099243164 0.867924528302 0.781456953642\n",
      "Avg Training F1 score for SVC: 0.8679.\n",
      "Avg Test F1 score for SVC: 0.7815.\n",
      "Training a SVC using a training set size of 300. . .\n",
      "Training SVC...\n",
      "Training Completed! Trained model in 0.0051 seconds\n",
      "Predicting labels using SVC...\n",
      "Prediction done! Made predictions in 0.0040 seconds.\n",
      "Predicting labels using SVC...\n",
      "Prediction done! Made predictions in 0.0016 seconds.\n",
      "F1 score for training set: 0.8761.\n",
      "F1 score for test set: 0.7838.\n",
      "SVC 300 0.00395798683167 0.0015811920166 0.876068376068 0.783783783784\n",
      "Avg Training F1 score for SVC: 0.8761.\n",
      "Avg Test F1 score for SVC: 0.7838.\n",
      "Training a RandomForestClassifier using a training set size of 100. . .\n",
      "Training RandomForestClassifier...\n",
      "Training Completed! Trained model in 0.0196 seconds\n",
      "Predicting labels using RandomForestClassifier...\n",
      "Prediction done! Made predictions in 0.0008 seconds.\n",
      "Predicting labels using RandomForestClassifier...\n",
      "Prediction done! Made predictions in 0.0012 seconds.\n",
      "F1 score for training set: 0.9844.\n",
      "F1 score for test set: 0.7153.\n",
      "RandomForestClassifier 100 0.000839948654175 0.0012481212616 0.984375 0.715328467153\n",
      "Avg Training F1 score for RandomForestClassifier: 0.9844.\n",
      "Avg Test F1 score for RandomForestClassifier: 0.7153.\n",
      "Training a RandomForestClassifier using a training set size of 200. . .\n",
      "Training RandomForestClassifier...\n",
      "Training Completed! Trained model in 0.0200 seconds\n",
      "Predicting labels using RandomForestClassifier...\n",
      "Prediction done! Made predictions in 0.0011 seconds.\n",
      "Predicting labels using RandomForestClassifier...\n",
      "Prediction done! Made predictions in 0.0008 seconds.\n",
      "F1 score for training set: 0.9964.\n",
      "F1 score for test set: 0.7857.\n",
      "RandomForestClassifier 200 0.00106692314148 0.000761032104492 0.996389891697 0.785714285714\n",
      "Avg Training F1 score for RandomForestClassifier: 0.9964.\n",
      "Avg Test F1 score for RandomForestClassifier: 0.7857.\n",
      "Training a RandomForestClassifier using a training set size of 300. . .\n",
      "Training RandomForestClassifier...\n",
      "Training Completed! Trained model in 0.0220 seconds\n",
      "Predicting labels using RandomForestClassifier...\n",
      "Prediction done! Made predictions in 0.0015 seconds.\n",
      "Predicting labels using RandomForestClassifier...\n",
      "Prediction done! Made predictions in 0.0008 seconds.\n",
      "F1 score for training set: 0.9951.\n",
      "F1 score for test set: 0.8092.\n",
      "RandomForestClassifier 300 0.00148510932922 0.00084400177002 0.99512195122 0.809160305344\n",
      "Avg Training F1 score for RandomForestClassifier: 0.9951.\n",
      "Avg Test F1 score for RandomForestClassifier: 0.8092.\n",
      "Training a DecisionTreeClassifier using a training set size of 100. . .\n",
      "Training DecisionTreeClassifier...\n",
      "Training Completed! Trained model in 0.0007 seconds\n",
      "Predicting labels using DecisionTreeClassifier...\n",
      "Prediction done! Made predictions in 0.0001 seconds.\n",
      "Predicting labels using DecisionTreeClassifier...\n",
      "Prediction done! Made predictions in 0.0001 seconds.\n",
      "F1 score for training set: 1.0000.\n",
      "F1 score for test set: 0.6552.\n",
      "DecisionTreeClassifier 100 0.000141143798828 0.000136852264404 1.0 0.655172413793\n",
      "Avg Training F1 score for DecisionTreeClassifier: 1.0000.\n",
      "Avg Test F1 score for DecisionTreeClassifier: 0.6552.\n",
      "Training a DecisionTreeClassifier using a training set size of 200. . .\n",
      "Training DecisionTreeClassifier...\n",
      "Training Completed! Trained model in 0.0011 seconds\n",
      "Predicting labels using DecisionTreeClassifier...\n",
      "Prediction done! Made predictions in 0.0002 seconds.\n",
      "Predicting labels using DecisionTreeClassifier...\n",
      "Prediction done! Made predictions in 0.0001 seconds.\n",
      "F1 score for training set: 1.0000.\n",
      "F1 score for test set: 0.7500.\n",
      "DecisionTreeClassifier 200 0.000169038772583 0.000147819519043 1.0 0.75\n",
      "Avg Training F1 score for DecisionTreeClassifier: 1.0000.\n",
      "Avg Test F1 score for DecisionTreeClassifier: 0.7500.\n",
      "Training a DecisionTreeClassifier using a training set size of 300. . .\n",
      "Training DecisionTreeClassifier...\n",
      "Training Completed! Trained model in 0.0015 seconds\n",
      "Predicting labels using DecisionTreeClassifier...\n",
      "Prediction done! Made predictions in 0.0002 seconds.\n",
      "Predicting labels using DecisionTreeClassifier...\n",
      "Prediction done! Made predictions in 0.0001 seconds.\n",
      "F1 score for training set: 1.0000.\n",
      "F1 score for test set: 0.6613.\n",
      "DecisionTreeClassifier 300 0.000202894210815 0.000134944915771 1.0 0.661290322581\n",
      "Avg Training F1 score for DecisionTreeClassifier: 1.0000.\n",
      "Avg Test F1 score for DecisionTreeClassifier: 0.6613.\n"
     ]
    }
   ],
   "source": [
    "import numpy\n",
    "# TODO: Import the three supervised learning models from sklearn\n",
    "from sklearn.naive_bayes import GaussianNB\n",
    "from sklearn.svm import SVC\n",
    "from sklearn.ensemble import RandomForestClassifier\n",
    "from sklearn.tree import DecisionTreeClassifier\n",
    "\n",
    "# TODO: Initialize the three models\n",
    "clf_A = GaussianNB()\n",
    "clf_B = SVC(random_state = 42)\n",
    "clf_C = RandomForestClassifier(random_state = 42)\n",
    "clf_D = DecisionTreeClassifier(random_state = 42)\n",
    "\n",
    "classifiers = [clf_A,clf_B,clf_C,clf_D]\n",
    "\n",
    "# TODO: Execute the 'train_predict' function for each classifier and each training set size\n",
    "datasets = [train_test_split(X_all, y_all, train_size=x, test_size=95,random_state=42) for x in [100, 200, 300]]\n",
    "\n",
    "for clf in classifiers:\n",
    "    for n in [100, 200, 300]:\n",
    "        f1_score_train, time_predict_train,f1_score_test,time_predict_test=train_predict(clf, X_train[:n], y_train[:n], X_test, y_test)        \n",
    "        print clf.__class__.__name__,n,time_predict_train,time_predict_test,f1_score_train,f1_score_test\n",
    "        \n",
    "        print \"Avg Training F1 score for \"+ clf.__class__.__name__+\": {:.4f}.\".format(numpy.mean(f1_score_train))\n",
    "        print \"Avg Test F1 score for \"+ clf.__class__.__name__+\": {:.4f}.\".format(numpy.mean(f1_score_test))"
   ]
  },
  {
   "cell_type": "markdown",
   "metadata": {},
   "source": [
    "### Tabular Results\n",
    "Edit the cell below to see how a table can be designed in [Markdown](https://github.com/adam-p/markdown-here/wiki/Markdown-Cheatsheet#tables). You can record your results from above in the tables provided."
   ]
  },
  {
   "cell_type": "markdown",
   "metadata": {},
   "source": [
    "** Classifer 1 - RandomForestClassifier**  \n",
    "\n",
    "| Training Set Size | Training Time | Prediction Time (test) | F1 Score (train) | F1 Score (test) |\n",
    "| :---------------: | :---------------------: | :--------------------: | :--------------: | :-------------: |\n",
    "| 100               |0.0227348804474|              0.000774145126343          |     0.976            |      0.707692307692            |\n",
    "| 200               |        0.0210690498352          |      0.000792026519775                  |     0.989090909091             |            0.755555555556     |\n",
    "| 300               | 0.022607088089                     |0.000907182693481|      0.997555012225            |    0.698412698413      |\n",
    "\n",
    "** Classifer 2 - SVC**  \n",
    "\n",
    "| Training Set Size | Training Time | Prediction Time (test) | F1 Score (train) | F1 Score (test) |\n",
    "| :---------------: | :---------------------: | :--------------------: | :--------------: | :-------------: |\n",
    "| 100               |    0.00124192237854                    |                 0.000704050064087        |                 0.877697841727 |    0.774647887324             |\n",
    "| 200               |     0.00287508964539             |   0.00104093551636                     |    0.867924528302              |       0.781456953642          |\n",
    "| 300               |   0.00529408454895                      |    0.00143790245056                    |     0.876068376068             |     0.783783783784     |\n",
    "\n",
    "** Classifer 3 - GaussianNB**  \n",
    "\n",
    "| Training Set Size | Training Time | Prediction Time (test) | F1 Score (train) | F1 Score (test) |\n",
    "| :---------------: | :---------------------: | :--------------------: | :--------------: | :-------------: |\n",
    "| 100               |             0.0014660358429            |   0.000263929367065                    |  0.846715328467                |   0.802919708029              |\n",
    "| 200               |         0.000654935836792                |      0.000231981277466                  | 0.840579710145                 |    0.724409448819             |\n",
    "| 300               |             0.000720024108887            |      0.000306129455566                  |0.80378250591                  |    0.763358778626             |"
   ]
  },
  {
   "cell_type": "code",
   "execution_count": 159,
   "metadata": {
    "collapsed": true
   },
   "outputs": [],
   "source": [
    "## Average F1 Training Scores per classifier\n",
    "\n",
    "# Avg Training F1 score for GaussianNB: 0.8038.\n",
    "# Avg Test F1 score for GaussianNB: 0.7634.\n",
    "\n",
    "# Avg Training F1 score for RandomForestClassifier: 0.9880.\n",
    "# Avg Test F1 score for RandomForestClassifier: 0.7538.\n",
    "    \n",
    "# Avg Training F1 score for SVC: 0.8761.\n",
    "# Avg Test F1 score for SVC: 0.7838.\n",
    "\n",
    "# Avg Training F1 score for DecisionTreeClassifier: 1.0000.\n",
    "# Avg Test F1 score for DecisionTreeClassifier: 0.6777.    "
   ]
  },
  {
   "cell_type": "markdown",
   "metadata": {},
   "source": [
    "## Choosing the Best Model\n",
    "In this final section, you will choose from the three supervised learning models the *best* model to use on the student data. You will then perform a grid search optimization for the model over the entire training set (`X_train` and `y_train`) by tuning at least one parameter to improve upon the untuned model's F<sub>1</sub> score. "
   ]
  },
  {
   "cell_type": "markdown",
   "metadata": {},
   "source": [
    "### Question 3 - Choosing the Best Model\n",
    "*Based on the experiments you performed earlier, in one to two paragraphs, explain to the board of supervisors what single model you chose as the best model. Which model is generally the most appropriate based on the available data, limited resources, cost, and performance?*"
   ]
  },
  {
   "cell_type": "markdown",
   "metadata": {},
   "source": [
    "**Answer: **\n",
    "\n",
    "I choose initially 3 model namely - guassianNB being the simplest model, support vector machine and randomforest. But in the process of running for dataset. I attempted to add 1 more model and check its performance which was \"Decision Tree\".\n",
    "\n",
    "Computing average F1 training and test score for their respective runs. It appears for RandomForest and DecisionTree both F1 test scores are not improving with addition of more data points. It could be a case of overfitting. Also, here  classifiers are called without any tuning parameters. Even with high training test score, these 2 models are not that apt on this dataset. SVM looks better as test score tends to improve with addition of new datapoints. Training score is also pretty consistent with different data sizes. Also for SVM training time and test time are relative lower than other classifiers. \n",
    "\n",
    "SVM is my final choice for this problem."
   ]
  },
  {
   "cell_type": "markdown",
   "metadata": {},
   "source": [
    "### Question 4 - Model in Layman's Terms\n",
    "*In one to two paragraphs, explain to the board of directors in layman's terms how the final model chosen is supposed to work. Be sure that you are describing the major qualities of the model, such as how the model is trained and how the model makes a prediction. Avoid using advanced mathematical or technical jargon, such as describing equations or discussing the algorithm implementation.*"
   ]
  },
  {
   "cell_type": "markdown",
   "metadata": {},
   "source": [
    "**Answer: **\n",
    "\n",
    "Preventing students to fail graduation manually can be a tideous task. But an algorithm can help certainly here to predict which all students needs help in order not to fail. Existing student database can be used to predict using the all students past behaviour like age, health, travel time etc.  \n",
    "\n",
    "Machine learning algorithm can be applied in this case to predict the students who would need intervention. This algorithm in the end will predict whether or not student need an intervention. The student database can be divided into training and test datasets. Basically model will be trained using some 75% of the dataset and remaining can be used for testing purpose. So that when is a new student needs to be predicted, it can be done in no time. \n",
    "\n",
    "The algorithm choosen is SVM, which is a discriminative classifier. With SVM, the essence is in finding the decision line/boundaries using which the set of features can be separated out. Given labeled training data as in this problem, the algorithm outputs an optimal hyperplane which categorizes new examples. For a world where linearly separable set of 2D-points are available, algorithm finds a separating straight line. For more, it generates a hyperlane. \n",
    "\n",
    "SVMs are based on the idea of finding a hyperplane that best divides a dataset into two classes (in case of 2D) Hyperplane as a line that linearly separates and classifies a set of data. The distance between the hyperplane and the nearest data point from either set is known as the margin. The goal is to choose a hyperplane with the greatest possible margin between the hyperplane and any point within the training set, giving a greater chance of new data being classified correctly.\n",
    "\n",
    "In this example - The SVM takes data about previous students (age, gender, family, etc), and uses them to create a function that draws a boundary between the students who passed and those who didn't. The boundary should be drawn so as to maximize the distance between boundary and dataset. \n",
    "\n",
    "\n",
    "\n"
   ]
  },
  {
   "cell_type": "markdown",
   "metadata": {},
   "source": [
    "### Implementation: Model Tuning\n",
    "Fine tune the chosen model. Use grid search (`GridSearchCV`) with at least one important parameter tuned with at least 3 different values. You will need to use the entire training set for this. In the code cell below, you will need to implement the following:\n",
    "- Import [`sklearn.grid_search.gridSearchCV`](http://scikit-learn.org/stable/modules/generated/sklearn.grid_search.GridSearchCV.html) and [`sklearn.metrics.make_scorer`](http://scikit-learn.org/stable/modules/generated/sklearn.metrics.make_scorer.html).\n",
    "- Create a dictionary of parameters you wish to tune for the chosen model.\n",
    " - Example: `parameters = {'parameter' : [list of values]}`.\n",
    "- Initialize the classifier you've chosen and store it in `clf`.\n",
    "- Create the F<sub>1</sub> scoring function using `make_scorer` and store it in `f1_scorer`.\n",
    " - Set the `pos_label` parameter to the correct value!\n",
    "- Perform grid search on the classifier `clf` using `f1_scorer` as the scoring method, and store it in `grid_obj`.\n",
    "- Fit the grid search object to the training data (`X_train`, `y_train`), and store it in `grid_obj`."
   ]
  },
  {
   "cell_type": "code",
   "execution_count": 160,
   "metadata": {
    "collapsed": false
   },
   "outputs": [
    {
     "name": "stdout",
     "output_type": "stream",
     "text": [
      "Predicting labels using SVC...\n",
      "Prediction done! Made predictions in 0.0032 seconds.\n",
      "Predicting labels using SVC...\n",
      "Prediction done! Made predictions in 0.0011 seconds.\n",
      "Tuned model has a training F1 score of 0.8423.\n",
      "Tuned model has a testing F1 score of 0.7838.\n"
     ]
    }
   ],
   "source": [
    "# TODO: Import 'GridSearchCV' and 'make_scorer'\n",
    "from sklearn.grid_search import GridSearchCV\n",
    "from sklearn.metrics import make_scorer\n",
    "\n",
    "\n",
    "X_train, X_test, y_train, y_test = train_test_split(X_all, y_all, train_size=300,random_state=42)\n",
    "\n",
    "def perf_metric(label, prediction):\n",
    "    return f1_score(label, prediction, pos_label='yes')\n",
    "\n",
    "\n",
    "# TODO: Create the parameters list you wish to tune\n",
    "parameters = {'gamma':[0.001, 0.01, 0.1, 1], \n",
    "             'kernel':['linear','poly','rbf'],\n",
    "             'C':[0.001, 0.01, 0.1, 1, 10]}\n",
    "\n",
    "#parameters = {'kernel':['linear','poly','rbf']}\n",
    "\n",
    "# TODO: Initialize the classifier\n",
    "clf = SVC()\n",
    "\n",
    "# TODO: Make an f1 scoring function using 'make_scorer' \n",
    "f1_scorer = make_scorer(perf_metric, greater_is_better=True)\n",
    "\n",
    "# TODO: Perform grid search on the classifier using the f1_scorer as the scoring method\n",
    "grid_obj = GridSearchCV(clf,parameters,f1_scorer)\n",
    "\n",
    "# TODO: Fit the grid search object to the training data and find the optimal parameters\n",
    "grid_obj = grid_obj.fit(X_train, y_train)\n",
    "\n",
    "\n",
    "# Get the estimator\n",
    "clf = grid_obj.best_estimator_\n",
    "\n",
    "f1_train, time_predict = predict_labels(clf, X_train, y_train)\n",
    "f1_train\n",
    "f1_test, time_predict = predict_labels(clf, X_test,y_test)\n",
    "f1_test\n",
    "\n",
    "# Report the final F1 score for training and testing after parameter tuning\n",
    "print \"Tuned model has a training F1 score of {:.4f}.\".format(f1_train)\n",
    "print \"Tuned model has a testing F1 score of {:.4f}.\".format(f1_test)"
   ]
  },
  {
   "cell_type": "markdown",
   "metadata": {},
   "source": [
    "### Question 5 - Final F<sub>1</sub> Score\n",
    "*What is the final model's F<sub>1</sub> score for training and testing? How does that score compare to the untuned model?*"
   ]
  },
  {
   "cell_type": "markdown",
   "metadata": {},
   "source": [
    "**Answer: **\n",
    "\n",
    "Tuned model has better testing score. Test score increased. \n",
    "\n",
    "Tuned model has a training F1 score of 0.8423.\n",
    "Tuned model has a testing F1 score of 0.7838."
   ]
  },
  {
   "cell_type": "markdown",
   "metadata": {},
   "source": [
    "> **Note**: Once you have completed all of the code implementations and successfully answered each question above, you may finalize your work by exporting the iPython Notebook as an HTML document. You can do this by using the menu above and navigating to  \n",
    "**File -> Download as -> HTML (.html)**. Include the finished document along with this notebook as your submission."
   ]
  }
 ],
 "metadata": {
  "kernelspec": {
   "display_name": "Python 2",
   "language": "python",
   "name": "python2"
  },
  "language_info": {
   "codemirror_mode": {
    "name": "ipython",
    "version": 2
   },
   "file_extension": ".py",
   "mimetype": "text/x-python",
   "name": "python",
   "nbconvert_exporter": "python",
   "pygments_lexer": "ipython2",
   "version": "2.7.12"
  }
 },
 "nbformat": 4,
 "nbformat_minor": 0
}
